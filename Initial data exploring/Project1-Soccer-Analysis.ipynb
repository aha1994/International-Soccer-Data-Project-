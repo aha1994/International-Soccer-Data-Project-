{
 "cells": [
  {
   "cell_type": "code",
   "execution_count": 51,
   "metadata": {},
   "outputs": [],
   "source": [
    "# Import dependencies\n",
    "import pandas as pd\n",
    "import matplotlib.pyplot as plt\n",
    "import numpy as np\n",
    "import os\n",
    "import geopy\n",
    "import requests\n",
    "import json\n",
    "import citipy"
   ]
  },
  {
   "cell_type": "code",
   "execution_count": 52,
   "metadata": {},
   "outputs": [],
   "source": [
    "# Reading initial csv file and data cleaning\n",
    "path = os.path.join('results.csv')\n",
    "soccerDF =pd.read_csv(path)\n",
    "soccerDF['total goals'] = soccerDF['home_score'] + soccerDF['away_score']\n",
    "soccerDF['date'] = soccerDF['date'].str[:4]\n",
    "soccerDF['score_dif'] = soccerDF['home_score'] - soccerDF['away_score']\n",
    "\n",
    "#Adding a result column\n",
    "result = []\n",
    "for x in range(len(soccerDF['date'])):\n",
    "    if soccerDF.iloc[x]['score_dif'] == 0:\n",
    "        result.append('Draw')\n",
    "    elif soccerDF.iloc[x]['score_dif'] > 0:\n",
    "        result.append(soccerDF.iloc[x]['home_team'])\n",
    "    else:\n",
    "        result.append(soccerDF.iloc[x]['away_team'])\n",
    "soccerDF['Result'] = result"
   ]
  },
  {
   "cell_type": "code",
   "execution_count": 53,
   "metadata": {},
   "outputs": [
    {
     "data": {
      "text/html": [
       "<div>\n",
       "<style scoped>\n",
       "    .dataframe tbody tr th:only-of-type {\n",
       "        vertical-align: middle;\n",
       "    }\n",
       "\n",
       "    .dataframe tbody tr th {\n",
       "        vertical-align: top;\n",
       "    }\n",
       "\n",
       "    .dataframe thead th {\n",
       "        text-align: right;\n",
       "    }\n",
       "</style>\n",
       "<table border=\"1\" class=\"dataframe\">\n",
       "  <thead>\n",
       "    <tr style=\"text-align: right;\">\n",
       "      <th></th>\n",
       "      <th>date</th>\n",
       "      <th>home_team</th>\n",
       "      <th>away_team</th>\n",
       "      <th>home_score</th>\n",
       "      <th>away_score</th>\n",
       "      <th>tournament</th>\n",
       "      <th>city</th>\n",
       "      <th>country</th>\n",
       "      <th>neutral</th>\n",
       "      <th>total goals</th>\n",
       "      <th>score_dif</th>\n",
       "      <th>Result</th>\n",
       "    </tr>\n",
       "  </thead>\n",
       "  <tbody>\n",
       "    <tr>\n",
       "      <th>0</th>\n",
       "      <td>1872</td>\n",
       "      <td>Scotland</td>\n",
       "      <td>England</td>\n",
       "      <td>0</td>\n",
       "      <td>0</td>\n",
       "      <td>Friendly</td>\n",
       "      <td>Glasgow</td>\n",
       "      <td>Scotland</td>\n",
       "      <td>False</td>\n",
       "      <td>0</td>\n",
       "      <td>0</td>\n",
       "      <td>Draw</td>\n",
       "    </tr>\n",
       "    <tr>\n",
       "      <th>1</th>\n",
       "      <td>1873</td>\n",
       "      <td>England</td>\n",
       "      <td>Scotland</td>\n",
       "      <td>4</td>\n",
       "      <td>2</td>\n",
       "      <td>Friendly</td>\n",
       "      <td>London</td>\n",
       "      <td>England</td>\n",
       "      <td>False</td>\n",
       "      <td>6</td>\n",
       "      <td>2</td>\n",
       "      <td>England</td>\n",
       "    </tr>\n",
       "    <tr>\n",
       "      <th>2</th>\n",
       "      <td>1874</td>\n",
       "      <td>Scotland</td>\n",
       "      <td>England</td>\n",
       "      <td>2</td>\n",
       "      <td>1</td>\n",
       "      <td>Friendly</td>\n",
       "      <td>Glasgow</td>\n",
       "      <td>Scotland</td>\n",
       "      <td>False</td>\n",
       "      <td>3</td>\n",
       "      <td>1</td>\n",
       "      <td>Scotland</td>\n",
       "    </tr>\n",
       "    <tr>\n",
       "      <th>3</th>\n",
       "      <td>1875</td>\n",
       "      <td>England</td>\n",
       "      <td>Scotland</td>\n",
       "      <td>2</td>\n",
       "      <td>2</td>\n",
       "      <td>Friendly</td>\n",
       "      <td>London</td>\n",
       "      <td>England</td>\n",
       "      <td>False</td>\n",
       "      <td>4</td>\n",
       "      <td>0</td>\n",
       "      <td>Draw</td>\n",
       "    </tr>\n",
       "    <tr>\n",
       "      <th>4</th>\n",
       "      <td>1876</td>\n",
       "      <td>Scotland</td>\n",
       "      <td>England</td>\n",
       "      <td>3</td>\n",
       "      <td>0</td>\n",
       "      <td>Friendly</td>\n",
       "      <td>Glasgow</td>\n",
       "      <td>Scotland</td>\n",
       "      <td>False</td>\n",
       "      <td>3</td>\n",
       "      <td>3</td>\n",
       "      <td>Scotland</td>\n",
       "    </tr>\n",
       "  </tbody>\n",
       "</table>\n",
       "</div>"
      ],
      "text/plain": [
       "   date home_team away_team  home_score  away_score tournament     city  \\\n",
       "0  1872  Scotland   England           0           0   Friendly  Glasgow   \n",
       "1  1873   England  Scotland           4           2   Friendly   London   \n",
       "2  1874  Scotland   England           2           1   Friendly  Glasgow   \n",
       "3  1875   England  Scotland           2           2   Friendly   London   \n",
       "4  1876  Scotland   England           3           0   Friendly  Glasgow   \n",
       "\n",
       "    country  neutral  total goals  score_dif    Result  \n",
       "0  Scotland    False            0          0      Draw  \n",
       "1   England    False            6          2   England  \n",
       "2  Scotland    False            3          1  Scotland  \n",
       "3   England    False            4          0      Draw  \n",
       "4  Scotland    False            3          3  Scotland  "
      ]
     },
     "execution_count": 53,
     "metadata": {},
     "output_type": "execute_result"
    }
   ],
   "source": [
    "soccerDF.head()"
   ]
  },
  {
   "cell_type": "code",
   "execution_count": 54,
   "metadata": {},
   "outputs": [],
   "source": [
    "soccerDF.to_csv('soccer_dataframe.csv')"
   ]
  },
  {
   "cell_type": "code",
   "execution_count": 72,
   "metadata": {},
   "outputs": [],
   "source": [
    "# Getting all countries using rest country api\n",
    "base_url = 'https://restcountries.eu/rest/v2/name/'\n",
    "\n",
    "home = soccerDF['home_team']\n",
    "home = set(home)\n",
    "\n",
    "away = soccerDF['away_team']\n",
    "away = set(away)\n",
    "combined = away | home\n",
    "\n",
    "nation = []\n",
    "capital = []\n",
    "capital_coordinates = []\n",
    "for country in combined:\n",
    "    try:\n",
    "        response = requests.get(base_url + '{}'.format(country) + '?format=json').json()\n",
    "        capital_coordinates.append(response[0]['latlng'])\n",
    "        capital.append(response[0]['capital'])\n",
    "        nation.append(country)\n",
    "    except KeyError:\n",
    "        pass"
   ]
  },
  {
   "cell_type": "code",
   "execution_count": 73,
   "metadata": {},
   "outputs": [],
   "source": [
    "countryDF = pd.DataFrame({\n",
    "    'Country': nation,\n",
    "    'Capital': capital,\n",
    "    'Coordinates': capital_coordinates,\n",
    "})\n",
    "countryDF = countryDF.set_index('Country')\n",
    "\n",
    "# United kingdom countries had to be hard coded because they were all grouped together\n",
    "countryDF.loc['United States','Capital'] = 'Washington D.C'\n",
    "countryDF.loc['United States','Coordinates'] = '[38.9072, 77.0369]'\n",
    "countryDF.loc['Scotland','Coordinates'] = '[55.9533, 3.1883]'\n",
    "countryDF.loc['Scotland','Capital'] = 'Edinburgh'\n",
    "countryDF.loc['England','Coordinates'] = '[51.5074, 0.1278]'\n",
    "countryDF.loc['England','Capital'] = 'London'\n",
    "countryDF.loc['Wales','Coordinates'] = '[51.4816, 3.1791]'\n",
    "countryDF.loc['Wales','Capital'] = 'Cardiff'\n",
    "countryDF.loc['Ireland','Coordinates'] = '[53.3498, 6.2603]'\n",
    "countryDF.loc['Ireland','Capital'] = 'Dublin'\n",
    "countryDF.to_csv('countries.csv')"
   ]
  },
  {
   "cell_type": "code",
   "execution_count": 284,
   "metadata": {},
   "outputs": [],
   "source": [
    "# Getting coordinates of match location\n",
    "match_city = list(zip(soccerDF['city'], soccerDF['country']))\n",
    "match_city = list(set(match_city))\n",
    "\n",
    "gkey = 'Google key goes here'\n",
    "target_url = ('https://maps.googleapis.com/maps/api/geocode/json?'\n",
    "    'key={}&').format(gkey)\n",
    "\n",
    "match_city_coordinates = []\n",
    "for each in range(len(match_city)):\n",
    "    try:\n",
    "        response = requests.get(target_url + 'address={}, {}'.format(match_city[each][0], match_city[each][1])).json()\n",
    "        match_city_coordinates.append([response['results'][0]['geometry']['location']['lat'], response['results'][0]['geometry']['location']['lng']])\n",
    "    except:\n",
    "        match_city_coordinates.append('NaN')"
   ]
  },
  {
   "cell_type": "code",
   "execution_count": 292,
   "metadata": {},
   "outputs": [],
   "source": [
    "locationsDF = pd.DataFrame({\n",
    "    'Match Location': match_city,\n",
    "    'Match coordinates': match_city_coordinates,\n",
    "})\n",
    "locationsDF.head()\n",
    "locationsDF.to_csv('MatchLocationsCoords.csv', index=False)"
   ]
  },
  {
   "cell_type": "code",
   "execution_count": 293,
   "metadata": {},
   "outputs": [
    {
     "data": {
      "text/plain": [
       "4505.322545548147"
      ]
     },
     "execution_count": 293,
     "metadata": {},
     "output_type": "execute_result"
    }
   ],
   "source": [
    "from geopy import distance\n",
    "dist = geopy.distance.distance((21.8852562, -102.2915677), (-15.826691, -47.92182039999999)).miles\n",
    "dist"
   ]
  },
  {
   "cell_type": "code",
   "execution_count": 294,
   "metadata": {},
   "outputs": [],
   "source": [
    "countryDF2 = countryDF.reset_index()\n",
    "countryDF2.head()\n",
    "found_cities = list(countryDF2['Country'])"
   ]
  },
  {
   "cell_type": "code",
   "execution_count": 295,
   "metadata": {},
   "outputs": [],
   "source": [
    "soccerDFCleaned = soccerDF.copy()\n",
    "is_found = soccerDFCleaned['home_team'].isin(found_cities)  \n",
    "soccerDFCleaned = soccerDFCleaned[is_found]\n",
    "soccerDFCleaned = soccerDFCleaned.reset_index()\n",
    "is_found = soccerDFCleaned['away_team'].isin(found_cities)  \n",
    "soccerDFCleaned = soccerDFCleaned[is_found]\n",
    "soccerDFCleaned = soccerDFCleaned.reset_index()\n",
    "soccerDFCleaned\n",
    "soccerDFCleaned.to_csv('cleanedSoccerDF.csv')"
   ]
  },
  {
   "cell_type": "code",
   "execution_count": 296,
   "metadata": {},
   "outputs": [],
   "source": [
    "home_team_coord = []\n",
    "away_team_coord = []\n",
    "for x in range(len(soccerDFCleaned['date'])):\n",
    "    cityH = soccerDFCleaned.loc[x, 'home_team']\n",
    "    home_team_coord.append(countryDF.loc[cityH, 'Coordinates'])\n",
    "    cityA = soccerDFCleaned.loc[x, 'away_team']\n",
    "    away_team_coord.append(countryDF.loc[cityA, 'Coordinates'])\n",
    "soccerDFCleaned['Home Team Coord'] = home_team_coord\n",
    "soccerDFCleaned['Away Team Coord'] = away_team_coord\n",
    "\n",
    "for x in range(len(home_team_coord)):\n",
    "    home_team_coord[x] = str(home_team_coord[x]).strip('[]').split(', ')\n",
    "for x in range(len(away_team_coord)):\n",
    "    away_team_coord[x] = str(away_team_coord[x]).strip('[]').split(', ')    \n",
    "soccerDFCleaned['Home Team Coord'] = home_team_coord\n",
    "soccerDFCleaned['Away Team Coord'] = away_team_coord\n",
    "soccerDFCleaned.to_csv('Updated_cleaned_DF.csv')"
   ]
  },
  {
   "cell_type": "code",
   "execution_count": 297,
   "metadata": {},
   "outputs": [
    {
     "ename": "SyntaxError",
     "evalue": "invalid syntax (<ipython-input-297-0aa94300819a>, line 6)",
     "output_type": "error",
     "traceback": [
      "\u001b[1;36m  File \u001b[1;32m\"<ipython-input-297-0aa94300819a>\"\u001b[1;36m, line \u001b[1;32m6\u001b[0m\n\u001b[1;33m    match_coords.append(locationsDF.loc[locationsDF.index(city),'Match coordinates'])\u001b[0m\n\u001b[1;37m               ^\u001b[0m\n\u001b[1;31mSyntaxError\u001b[0m\u001b[1;31m:\u001b[0m invalid syntax\n"
     ]
    }
   ],
   "source": [
    "# try to add match location coordinates to main DF\n",
    "locationsDF.set_index('Match Location')\n",
    "match_coords = []\n",
    "for x in range(1, len(soccerDFCleaned['date'])):\n",
    "    city = ('{}'.format(soccerDFCleaned.loc[x,'city'], '{}'.format(soccerDFCleaned.loc[x,'country']))\n",
    "    match_coords.append(locationsDF.loc[locationsDF.index(city),'Match coordinates'])\n",
    "match_coords\n"
   ]
  },
  {
   "cell_type": "code",
   "execution_count": 1,
   "metadata": {},
   "outputs": [
    {
     "ename": "NameError",
     "evalue": "name 'match_city_coordinates' is not defined",
     "output_type": "error",
     "traceback": [
      "\u001b[1;31m---------------------------------------------------------------------------\u001b[0m",
      "\u001b[1;31mNameError\u001b[0m                                 Traceback (most recent call last)",
      "\u001b[1;32m<ipython-input-1-0060bf47d26a>\u001b[0m in \u001b[0;36m<module>\u001b[1;34m\u001b[0m\n\u001b[1;32m----> 1\u001b[1;33m \u001b[0mmatch_city_coordinates\u001b[0m\u001b[1;33m\u001b[0m\u001b[1;33m\u001b[0m\u001b[0m\n\u001b[0m\u001b[0;32m      2\u001b[0m \u001b[0mcountDF\u001b[0m \u001b[1;33m=\u001b[0m \u001b[0mpd\u001b[0m\u001b[1;33m.\u001b[0m\u001b[0mDataFrame\u001b[0m\u001b[1;33m(\u001b[0m\u001b[0msoccerDFCleaned\u001b[0m\u001b[1;33m[\u001b[0m\u001b[1;34m'city'\u001b[0m\u001b[1;33m]\u001b[0m\u001b[1;33m.\u001b[0m\u001b[0mvalue_counts\u001b[0m\u001b[1;33m(\u001b[0m\u001b[1;33m)\u001b[0m\u001b[1;33m)\u001b[0m\u001b[1;33m\u001b[0m\u001b[1;33m\u001b[0m\u001b[0m\n\u001b[0;32m      3\u001b[0m \u001b[0mcountDF\u001b[0m\u001b[1;33m.\u001b[0m\u001b[0msort_values\u001b[0m\u001b[1;33m(\u001b[0m\u001b[1;33m)\u001b[0m\u001b[1;33m\u001b[0m\u001b[1;33m\u001b[0m\u001b[0m\n",
      "\u001b[1;31mNameError\u001b[0m: name 'match_city_coordinates' is not defined"
     ]
    }
   ],
   "source": [
    "match_city_coordinates\n",
    "countDF = pd.DataFrame(soccerDFCleaned['city'].value_counts())\n",
    "countDF.sort_values()"
   ]
  },
  {
   "cell_type": "code",
   "execution_count": null,
   "metadata": {},
   "outputs": [],
   "source": []
  }
 ],
 "metadata": {
  "kernelspec": {
   "display_name": "Python 3",
   "language": "python",
   "name": "python3"
  },
  "language_info": {
   "codemirror_mode": {
    "name": "ipython",
    "version": 3
   },
   "file_extension": ".py",
   "mimetype": "text/x-python",
   "name": "python",
   "nbconvert_exporter": "python",
   "pygments_lexer": "ipython3",
   "version": "3.7.3"
  }
 },
 "nbformat": 4,
 "nbformat_minor": 4
}
